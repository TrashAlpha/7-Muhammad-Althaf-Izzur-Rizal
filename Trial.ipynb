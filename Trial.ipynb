{
  "nbformat": 4,
  "nbformat_minor": 0,
  "metadata": {
    "colab": {
      "provenance": [],
      "authorship_tag": "ABX9TyNUITTOKh4GQ8AjmM6NJH8D",
      "include_colab_link": true
    },
    "kernelspec": {
      "name": "python3",
      "display_name": "Python 3"
    },
    "language_info": {
      "name": "python"
    }
  },
  "cells": [
    {
      "cell_type": "markdown",
      "metadata": {
        "id": "view-in-github",
        "colab_type": "text"
      },
      "source": [
        "<a href=\"https://colab.research.google.com/github/TrashAlpha/7-Muhammad-Althaf-Izzur-Rizal/blob/main/Trial.ipynb\" target=\"_parent\"><img src=\"https://colab.research.google.com/assets/colab-badge.svg\" alt=\"Open In Colab\"/></a>"
      ]
    },
    {
      "cell_type": "code",
      "execution_count": null,
      "metadata": {
        "colab": {
          "base_uri": "https://localhost:8080/"
        },
        "id": "9yazTMvIPA2Z",
        "outputId": "372a850b-9b64-4186-b2a7-37eaa526e6f3"
      },
      "outputs": [
        {
          "output_type": "stream",
          "name": "stdout",
          "text": [
            "2015-04-01 13:20:00\n"
          ]
        }
      ],
      "source": [
        "from datetime import datetime\n",
        "char_date = 'Apr 1 2015 1:20 PM' #creating example character date\n",
        "date_obj = datetime.strptime(char_date, '%b %d %Y %I:%M %p')\n",
        "print (date_obj)"
      ]
    }
  ]
}